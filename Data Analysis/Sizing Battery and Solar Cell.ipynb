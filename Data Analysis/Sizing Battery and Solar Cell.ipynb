{
 "cells": [
  {
   "cell_type": "code",
   "execution_count": 2,
   "metadata": {
    "collapsed": true
   },
   "outputs": [],
   "source": [
    "# import necessary library\n",
    "from scipy.optimize import linprog\n",
    "import matplotlib.pyplot as plt\n",
    "import pandas as pd\n",
    "import numpy as np\n",
    "\n",
    "%matplotlib inline"
   ]
  },
  {
   "cell_type": "code",
   "execution_count": 27,
   "metadata": {
    "collapsed": true
   },
   "outputs": [],
   "source": [
    "data = pd.read_excel('LoadProfile/dt13151011.xls')\n",
    "max_pv_size = 1\n",
    "max_pv_size = max_pv_size*0.12"
   ]
  },
  {
   "cell_type": "code",
   "execution_count": 28,
   "metadata": {},
   "outputs": [
    {
     "name": "stdout",
     "output_type": "stream",
     "text": [
      "1100695597.1468117\n"
     ]
    }
   ],
   "source": [
    "load_sample = data.iloc[3:98, 3]\n",
    "# scale load profile of whole PEA customers to 1 customers\n",
    "# load_sample = load_sample/np.max(load_sample)*1.2\n",
    "\n",
    "# Calculate basic energy in 1 month \n",
    "energy_sample = np.sum(load_sample)/4*30\n",
    "print(energy_sample)\n",
    "\n",
    "# load data scale monthly energy consumption equal to 1, \n",
    "# so that if we have energy consumption in 1 month we can sample this load profile\n",
    "load_scale_energy = load_sample/energy_sample "
   ]
  },
  {
   "cell_type": "code",
   "execution_count": 29,
   "metadata": {},
   "outputs": [
    {
     "name": "stderr",
     "output_type": "stream",
     "text": [
      "D:\\ProgramData\\Anaconda3\\lib\\site-packages\\ipykernel_launcher.py:4: FutureWarning: reshape is deprecated and will raise in a subsequent release. Please use .values.reshape(...) instead\n",
      "  after removing the cwd from sys.path.\n"
     ]
    },
    {
     "data": {
      "image/png": "[encoded data removed]",
      "text/plain": [
       "<matplotlib.figure.Figure at 0x1c11d805518>"
      ]
     },
     "metadata": {},
     "output_type": "display_data"
    }
   ],
   "source": [
    "# Plot Load profile of user with 150 kWh energy consumption\n",
    "load_test = load_scale_energy*1000\n",
    "load_test.plot()\n",
    "load_test = np.concatenate((load_test.reshape(95,1), np.array(load_test.iloc[-1]).reshape(1,1)))"
   ]
  },
  {
   "cell_type": "markdown",
   "metadata": {},
   "source": [
    "# import pv data"
   ]
  },
  {
   "cell_type": "code",
   "execution_count": 30,
   "metadata": {
    "collapsed": true
   },
   "outputs": [],
   "source": [
    "pv = pd.read_excel('SolarRadiance/2013-12-22.xls')\n",
    "pv_power = pv.iloc[5:, 16]/1000\n",
    "pv_power= pv_power.fillna(0)"
   ]
  },
  {
   "cell_type": "code",
   "execution_count": 31,
   "metadata": {},
   "outputs": [
    {
     "data": {
      "text/plain": [
       "(288,)"
      ]
     },
     "execution_count": 31,
     "metadata": {},
     "output_type": "execute_result"
    }
   ],
   "source": [
    "pv_power.shape"
   ]
  },
  {
   "cell_type": "code",
   "execution_count": 32,
   "metadata": {},
   "outputs": [
    {
     "data": {
      "text/plain": [
       "96"
      ]
     },
     "execution_count": 32,
     "metadata": {},
     "output_type": "execute_result"
    }
   ],
   "source": [
    "# convert pv data every 5 min to every 15 min\n",
    "count = 0\n",
    "pv_15 = []\n",
    "\n",
    "for i in range(pv_power.shape[0]):\n",
    "    \n",
    "    count += 1\n",
    "    if count ==3:\n",
    "        avg = np.sum(pv_power[i-2:i+1])/3\n",
    "        pv_15.append(avg)\n",
    "        count = 0\n",
    "\n",
    "len(pv_15)"
   ]
  },
  {
   "cell_type": "code",
   "execution_count": 33,
   "metadata": {
    "collapsed": true
   },
   "outputs": [],
   "source": [
    "pv_power_scale = pv_15/np.max(pv_15)"
   ]
  },
  {
   "cell_type": "code",
   "execution_count": 34,
   "metadata": {
    "collapsed": true
   },
   "outputs": [],
   "source": [
    "off_peak_rate = 2.6296\n",
    "on_peak_rate = 4.3555\n",
    "\n",
    "tou = []\n",
    "for i in range(96):\n",
    "    \n",
    "    if i <=36 or i >36+52:\n",
    "        tou.append(off_peak_rate)\n",
    "    else:\n",
    "        tou.append(on_peak_rate)\n",
    "        "
   ]
  },
  {
   "cell_type": "code",
   "execution_count": 49,
   "metadata": {
    "collapsed": true
   },
   "outputs": [],
   "source": [
    "## PV cost and BESS cost\n",
    "cost_norm_inverter = 11.8*1000  # Baht/W\n",
    "cost_norm_pv = 37.5*1000        # Baht/W\n",
    "\n",
    "cost_pv = (cost_norm_inverter + cost_norm_pv)\n",
    "cost_pv = cost_pv*100\n",
    "\n",
    "bess_cost_kWh = 300*35\n",
    "bess_cost_kW = (0.71 + 0.21 + 0.57 + 0.15 + 0.75 + 0.06)*35*1000\n",
    "\n",
    "bess_cost_kWh = bess_cost_kWh/3\n",
    "bess_cost_kW = bess_cost_kW/3"
   ]
  },
  {
   "cell_type": "code",
   "execution_count": 50,
   "metadata": {},
   "outputs": [
    {
     "data": {
      "text/plain": [
       "4930000.0"
      ]
     },
     "execution_count": 50,
     "metadata": {},
     "output_type": "execute_result"
    }
   ],
   "source": [
    "cost_pv"
   ]
  },
  {
   "cell_type": "code",
   "execution_count": 51,
   "metadata": {
    "collapsed": true
   },
   "outputs": [],
   "source": [
    "## Optimization formulation\n",
    "\n",
    "# NPV factor\n",
    "year = 25\n",
    "r = 5\n",
    "discount = (1 - (1/(1 + r/100))**year)/(1-(1/(1 + r/100)))\n",
    "\n",
    "# coefficient of PV size\n",
    "c = -np.dot(pv_power_scale, tou)\n",
    "c = 365*c*discount + cost_pv\n",
    "c = [c]\n",
    "\n",
    "# coefficient of BESS energy\n",
    "c.append(bess_cost_kWh)\n",
    "\n",
    "# coefficient of BESS kW\n",
    "c.append(bess_cost_kW)\n",
    "\n",
    "# coefficient of BESS charge and discharge and TOU\n",
    "c.extend(list(np.array(tou)*365*discount/4))"
   ]
  },
  {
   "cell_type": "code",
   "execution_count": 52,
   "metadata": {},
   "outputs": [],
   "source": [
    "soc = 0.7\n",
    "len_time = len(pv_15)\n",
    "Crate = 2\n",
    "\n",
    "A = np.array([[-3, 1], [1, 2]])\n",
    "\n",
    "# Pl - Ppv - Pbess >= 0\n",
    "A_1 = np.array(pv_power_scale).reshape(96,1)\n",
    "A_1 = np.concatenate((A_1, np.zeros((len_time,1))),axis = 1)\n",
    "A_1 = np.concatenate((A_1, np.zeros((len_time,1))),axis = 1)\n",
    "A_1 = np.concatenate((A_1, np.identity(len_time)),axis = 1)\n",
    "\n",
    "# SOC <= 90\n",
    "A_2 = np.zeros((len_time,1))\n",
    "A_2 = np.concatenate((A_2, (soc-0.9)*np.ones((len_time,1))),axis = 1)\n",
    "A_2 = np.concatenate((A_2, np.zeros((len_time,1))),axis = 1)\n",
    "A_2 = np.concatenate((A_2, np.tril(np.ones((len_time)))),axis = 1)\n",
    "# SOC >= 10\n",
    "A_3 = np.zeros((len_time,1))\n",
    "A_3 = np.concatenate((A_3, (-soc+0.1)*np.ones((len_time,1))),axis = 1)\n",
    "A_3 = np.concatenate((A_3, np.zeros((len_time,1))),axis = 1)\n",
    "A_3 = np.concatenate((A_3, -np.tril(np.ones((len_time)))),axis = 1)\n",
    "# Pbess(t) <= Prate for all t\n",
    "A_4 = np.zeros((len_time,1))\n",
    "A_4 = np.concatenate((A_4, np.zeros((len_time,1))), axis=1)\n",
    "A_4 = np.concatenate((A_4, -np.ones((len_time,1))), axis=1)\n",
    "A_4 = np.concatenate((A_4, np.identity(len_time)), axis=1)\n",
    "# Pbess(t) >= -Prate for all t\n",
    "A_5 = np.zeros((len_time,1))\n",
    "A_5 = np.concatenate((A_5, np.zeros((len_time,1))), axis=1)\n",
    "A_5 = np.concatenate((A_5, -np.ones((len_time,1))), axis=1)\n",
    "A_5 = np.concatenate((A_5, -np.identity(len_time)), axis=1)\n",
    "# sum(Pbess(t)) = 0 \n",
    "A_6 = np.array([0,0,0]).reshape(3,1)\n",
    "A_6 = np.concatenate((A_6, -np.ones((len_time,1))), axis = 0)\n",
    "A_6 = A_6.T\n",
    "#  Crate <= 2\n",
    "A_7 = np.array([0, -Crate, 1]).reshape(3,1)\n",
    "A_7 = np.concatenate((A_7, np.zeros((len_time,1))))\n",
    "A_7 = A_7.T\n",
    "# Max PV\n",
    "A_8 = np.array([1, 0, 0]).reshape(3,1)\n",
    "A_8 = np.concatenate((A_8, np.zeros((len_time,1))))\n",
    "A_8 = A_8.T\n",
    "\n",
    "A = np.concatenate((A_1,A_2,A_3,A_4,A_5,A_6,A_7, A_8),axis=0)\n",
    "\n",
    "b = load_test.reshape(96,1)\n",
    "b = np.concatenate((b, np.zeros((len_time*4,1))))\n",
    "b = np.concatenate((b,np.array(0).reshape(1,1)))\n",
    "b = np.concatenate((b,np.array(2).reshape(1,1)))\n",
    "b = np.concatenate((b,np.array(max_pv_size).reshape(1,1)))"
   ]
  },
  {
   "cell_type": "code",
   "execution_count": 53,
   "metadata": {},
   "outputs": [
    {
     "data": {
      "text/plain": [
       "(483, 99)"
      ]
     },
     "execution_count": 53,
     "metadata": {},
     "output_type": "execute_result"
    }
   ],
   "source": [
    "A.shape"
   ]
  },
  {
   "cell_type": "code",
   "execution_count": 54,
   "metadata": {},
   "outputs": [],
   "source": [
    "res = linprog(c, A_ub=list(A), b_ub=list(b), bounds=None)"
   ]
  },
  {
   "cell_type": "code",
   "execution_count": 55,
   "metadata": {},
   "outputs": [
    {
     "data": {
      "text/plain": [
       "     fun: -0.0\n",
       " message: 'Optimization terminated successfully.'\n",
       "     nit: 0\n",
       "   slack: array([ 1.40532086,  1.37828028,  1.31715461,  1.24574125,  1.23604894,\n",
       "        1.1907196 ,  1.19327104,  1.1693298 ,  1.13931196,  1.11429754,\n",
       "        1.1555871 ,  1.20663318,  1.17018205,  1.13337179,  1.13865948,\n",
       "        1.10427904,  1.03304426,  1.05524975,  1.00991963,  1.03207579,\n",
       "        1.14307673,  1.26700359,  1.22802768,  1.27296538,  1.34157911,\n",
       "        1.42798392,  1.36535623,  1.22152471,  1.36327994,  1.36702611,\n",
       "        1.39896721,  1.32312469,  1.2613946 ,  1.38306513,  1.3166298 ,\n",
       "        1.34776803,  1.31797834,  1.31105585,  1.35880115,  1.29854294,\n",
       "        1.24800933,  1.1415363 ,  1.18646801,  1.3417233 ,  1.32093552,\n",
       "        1.28690143,  1.335226  ,  1.23271894,  1.29145378,  1.3481808 ,\n",
       "        1.25719428,  1.28269086,  1.26559806,  1.29978528,  1.3269298 ,\n",
       "        1.3740593 ,  1.33684894,  1.30912983,  1.35930485,  1.29645308,\n",
       "        1.28740277,  1.34965316,  1.44276645,  1.36085118,  1.3352073 ,\n",
       "        1.33452219,  1.43549242,  1.59847717,  1.52254697,  1.42876005,\n",
       "        1.41914467,  1.46421361,  1.61987753,  1.72042068,  1.64805904,\n",
       "        1.62333455,  1.67690648,  1.79891069,  1.71220651,  1.87265899,\n",
       "        1.77411017,  1.87293023,  1.96811612,  1.86902055,  1.93545684,\n",
       "        1.89346165,  1.88349584,  1.87459487,  1.83667136,  1.81920552,\n",
       "        1.74023854,  1.76032466,  1.69134355,  1.57992915,  1.5982451 ,\n",
       "        1.5982451 ,  0.        ,  0.        ,  0.        ,  0.        ,\n",
       "        0.        ,  0.        ,  0.        ,  0.        ,  0.        ,\n",
       "        0.        ,  0.        ,  0.        ,  0.        ,  0.        ,\n",
       "        0.        ,  0.        ,  0.        ,  0.        ,  0.        ,\n",
       "        0.        ,  0.        ,  0.        ,  0.        ,  0.        ,\n",
       "        0.        ,  0.        ,  0.        ,  0.        ,  0.        ,\n",
       "        0.        ,  0.        ,  0.        ,  0.        ,  0.        ,\n",
       "        0.        ,  0.        ,  0.        ,  0.        ,  0.        ,\n",
       "        0.        ,  0.        ,  0.        ,  0.        ,  0.        ,\n",
       "        0.        ,  0.        ,  0.        ,  0.        ,  0.        ,\n",
       "        0.        ,  0.        ,  0.        ,  0.        ,  0.        ,\n",
       "        0.        ,  0.        ,  0.        ,  0.        ,  0.        ,\n",
       "        0.        ,  0.        ,  0.        ,  0.        ,  0.        ,\n",
       "        0.        ,  0.        ,  0.        ,  0.        ,  0.        ,\n",
       "        0.        ,  0.        ,  0.        ,  0.        ,  0.        ,\n",
       "        0.        ,  0.        ,  0.        ,  0.        ,  0.        ,\n",
       "        0.        ,  0.        ,  0.        ,  0.        ,  0.        ,\n",
       "        0.        ,  0.        ,  0.        ,  0.        ,  0.        ,\n",
       "        0.        ,  0.        ,  0.        ,  0.        ,  0.        ,\n",
       "        0.        ,  0.        ,  0.        ,  0.        ,  0.        ,\n",
       "        0.        ,  0.        ,  0.        ,  0.        ,  0.        ,\n",
       "        0.        ,  0.        ,  0.        ,  0.        ,  0.        ,\n",
       "        0.        ,  0.        ,  0.        ,  0.        ,  0.        ,\n",
       "        0.        ,  0.        ,  0.        ,  0.        ,  0.        ,\n",
       "        0.        ,  0.        ,  0.        ,  0.        ,  0.        ,\n",
       "        0.        ,  0.        ,  0.        ,  0.        ,  0.        ,\n",
       "        0.        ,  0.        ,  0.        ,  0.        ,  0.        ,\n",
       "        0.        ,  0.        ,  0.        ,  0.        ,  0.        ,\n",
       "        0.        ,  0.        ,  0.        ,  0.        ,  0.        ,\n",
       "        0.        ,  0.        ,  0.        ,  0.        ,  0.        ,\n",
       "        0.        ,  0.        ,  0.        ,  0.        ,  0.        ,\n",
       "        0.        ,  0.        ,  0.        ,  0.        ,  0.        ,\n",
       "        0.        ,  0.        ,  0.        ,  0.        ,  0.        ,\n",
       "        0.        ,  0.        ,  0.        ,  0.        ,  0.        ,\n",
       "        0.        ,  0.        ,  0.        ,  0.        ,  0.        ,\n",
       "        0.        ,  0.        ,  0.        ,  0.        ,  0.        ,\n",
       "        0.        ,  0.        ,  0.        ,  0.        ,  0.        ,\n",
       "        0.        ,  0.        ,  0.        ,  0.        ,  0.        ,\n",
       "        0.        ,  0.        ,  0.        ,  0.        ,  0.        ,\n",
       "        0.        ,  0.        ,  0.        ,  0.        ,  0.        ,\n",
       "        0.        ,  0.        ,  0.        ,  0.        ,  0.        ,\n",
       "        0.        ,  0.        ,  0.        ,  0.        ,  0.        ,\n",
       "        0.        ,  0.        ,  0.        ,  0.        ,  0.        ,\n",
       "        0.        ,  0.        ,  0.        ,  0.        ,  0.        ,\n",
       "        0.        ,  0.        ,  0.        ,  0.        ,  0.        ,\n",
       "        0.        ,  0.        ,  0.        ,  0.        ,  0.        ,\n",
       "        0.        ,  0.        ,  0.        ,  0.        ,  0.        ,\n",
       "        0.        ,  0.        ,  0.        ,  0.        ,  0.        ,\n",
       "        0.        ,  0.        ,  0.        ,  0.        ,  0.        ,\n",
       "        0.        ,  0.        ,  0.        ,  0.        ,  0.        ,\n",
       "        0.        ,  0.        ,  0.        ,  0.        ,  0.        ,\n",
       "        0.        ,  0.        ,  0.        ,  0.        ,  0.        ,\n",
       "        0.        ,  0.        ,  0.        ,  0.        ,  0.        ,\n",
       "        0.        ,  0.        ,  0.        ,  0.        ,  0.        ,\n",
       "        0.        ,  0.        ,  0.        ,  0.        ,  0.        ,\n",
       "        0.        ,  0.        ,  0.        ,  0.        ,  0.        ,\n",
       "        0.        ,  0.        ,  0.        ,  0.        ,  0.        ,\n",
       "        0.        ,  0.        ,  0.        ,  0.        ,  0.        ,\n",
       "        0.        ,  0.        ,  0.        ,  0.        ,  0.        ,\n",
       "        0.        ,  0.        ,  0.        ,  0.        ,  0.        ,\n",
       "        0.        ,  0.        ,  0.        ,  0.        ,  0.        ,\n",
       "        0.        ,  0.        ,  0.        ,  0.        ,  0.        ,\n",
       "        0.        ,  0.        ,  0.        ,  0.        ,  0.        ,\n",
       "        0.        ,  0.        ,  0.        ,  0.        ,  0.        ,\n",
       "        0.        ,  0.        ,  0.        ,  0.        ,  0.        ,\n",
       "        0.        ,  0.        ,  0.        ,  0.        ,  0.        ,\n",
       "        0.        ,  0.        ,  0.        ,  0.        ,  0.        ,\n",
       "        0.        ,  0.        ,  0.        ,  0.        ,  0.        ,\n",
       "        0.        ,  0.        ,  0.        ,  0.        ,  0.        ,\n",
       "        0.        ,  0.        ,  0.        ,  0.        ,  0.        ,\n",
       "        0.        ,  0.        ,  0.        ,  0.        ,  0.        ,\n",
       "        0.        ,  0.        ,  0.        ,  0.        ,  0.        ,\n",
       "        0.        ,  0.        ,  0.        ,  0.        ,  0.        ,\n",
       "        0.        ,  0.        ,  0.        ,  0.        ,  0.        ,\n",
       "        0.        ,  0.        ,  0.        ,  0.        ,  0.        ,\n",
       "        0.        ,  0.        ,  0.        ,  0.        ,  0.        ,\n",
       "        0.        ,  0.        ,  0.        ,  0.        ,  0.        ,\n",
       "        0.        ,  2.        ,  0.12      ])\n",
       "  status: 0\n",
       " success: True\n",
       "       x: array([ 0.,  0.,  0.,  0.,  0.,  0.,  0.,  0.,  0.,  0.,  0.,  0.,  0.,\n",
       "        0.,  0.,  0.,  0.,  0.,  0.,  0.,  0.,  0.,  0.,  0.,  0.,  0.,\n",
       "        0.,  0.,  0.,  0.,  0.,  0.,  0.,  0.,  0.,  0.,  0.,  0.,  0.,\n",
       "        0.,  0.,  0.,  0.,  0.,  0.,  0.,  0.,  0.,  0.,  0.,  0.,  0.,\n",
       "        0.,  0.,  0.,  0.,  0.,  0.,  0.,  0.,  0.,  0.,  0.,  0.,  0.,\n",
       "        0.,  0.,  0.,  0.,  0.,  0.,  0.,  0.,  0.,  0.,  0.,  0.,  0.,\n",
       "        0.,  0.,  0.,  0.,  0.,  0.,  0.,  0.,  0.,  0.,  0.,  0.,  0.,\n",
       "        0.,  0.,  0.,  0.,  0.,  0.,  0.,  0.])"
      ]
     },
     "execution_count": 55,
     "metadata": {},
     "output_type": "execute_result"
    }
   ],
   "source": [
    "res"
   ]
  },
  {
   "cell_type": "code",
   "execution_count": 33,
   "metadata": {
    "collapsed": true
   },
   "outputs": [],
   "source": [
    "pv_size = res['x']"
   ]
  },
  {
   "cell_type": "code",
   "execution_count": 35,
   "metadata": {},
   "outputs": [
    {
     "data": {
      "text/plain": [
       "0.18490784112334951"
      ]
     },
     "execution_count": 35,
     "metadata": {},
     "output_type": "execute_result"
    }
   ],
   "source": [
    "pv_size[0]"
   ]
  },
  {
   "cell_type": "code",
   "execution_count": null,
   "metadata": {
    "collapsed": true
   },
   "outputs": [],
   "source": []
  }
 ],
 "metadata": {
  "kernelspec": {
   "display_name": "Python 3",
   "language": "python",
   "name": "python3"
  },
  "language_info": {
   "codemirror_mode": {
    "name": "ipython",
    "version": 3
   },
   "file_extension": ".py",
   "mimetype": "text/x-python",
   "name": "python",
   "nbconvert_exporter": "python",
   "pygments_lexer": "ipython3",
   "version": "3.6.1"
  }
 },
 "nbformat": 4,
 "nbformat_minor": 2
}
