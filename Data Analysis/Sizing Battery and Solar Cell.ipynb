{
 "cells": [
  {
   "cell_type": "code",
   "execution_count": 23,
   "metadata": {},
   "outputs": [],
   "source": [
    "# import necessary library\n",
    "from scipy.optimize import linprog\n",
    "import matplotlib.pyplot as plt\n",
    "import pandas as pd\n",
    "import numpy as np\n",
    "\n",
    "%matplotlib inline"
   ]
  },
  {
   "cell_type": "code",
   "execution_count": 24,
   "metadata": {
    "collapsed": true
   },
   "outputs": [],
   "source": [
    "data = pd.read_excel('LoadProfile/dt13151011.xls')"
   ]
  },
  {
   "cell_type": "code",
   "execution_count": 48,
   "metadata": {},
   "outputs": [],
   "source": [
    "load_sample = data.iloc[3:98, 3]\n",
    "# load_sample = load_sample/np.max(load_sample)\n",
    "\n",
    "energy_sample = np.sum(load_sample)/4\n",
    "\n",
    "# load data scale energy equal to 1, so that if we have energy data we can sample this load profile\n",
    "load_scale_energy = load_sample/energy_sample "
   ]
  },
  {
   "cell_type": "code",
   "execution_count": 186,
   "metadata": {},
   "outputs": [
    {
     "name": "stderr",
     "output_type": "stream",
     "text": [
      "D:\\ProgramData\\Anaconda3\\lib\\site-packages\\ipykernel_launcher.py:4: FutureWarning: reshape is deprecated and will raise in a subsequent release. Please use .values.reshape(...) instead\n",
      "  after removing the cwd from sys.path.\n"
     ]
    },
    {
     "data": {
      "image/png": "[encoded data removed]",
      "text/plain": [
       "<matplotlib.figure.Figure at 0xf708edd550>"
      ]
     },
     "metadata": {},
     "output_type": "display_data"
    }
   ],
   "source": [
    "scale = 0.6/1.4760870897413207\n",
    "load_test = load_scale_energy*scale*300\n",
    "load_test.plot()\n",
    "load_test = np.concatenate((load_test.reshape(95,1), np.array(load_test.iloc[-1]).reshape(1,1)))"
   ]
  },
  {
   "cell_type": "markdown",
   "metadata": {},
   "source": [
    "# import pv data"
   ]
  },
  {
   "cell_type": "code",
   "execution_count": 85,
   "metadata": {
    "collapsed": true
   },
   "outputs": [],
   "source": [
    "pv = pd.read_excel('SolarRadiance/2013-12-22.xls')\n",
    "pv_power = pv.iloc[5:, 16]/1000\n",
    "pv_power= pv_power.fillna(0)"
   ]
  },
  {
   "cell_type": "code",
   "execution_count": 86,
   "metadata": {},
   "outputs": [
    {
     "data": {
      "text/plain": [
       "(288,)"
      ]
     },
     "execution_count": 86,
     "metadata": {},
     "output_type": "execute_result"
    }
   ],
   "source": [
    "pv_power.shape"
   ]
  },
  {
   "cell_type": "code",
   "execution_count": 87,
   "metadata": {},
   "outputs": [
    {
     "data": {
      "text/plain": [
       "96"
      ]
     },
     "execution_count": 87,
     "metadata": {},
     "output_type": "execute_result"
    }
   ],
   "source": [
    "# convert pv data every 5 min to every 15 min\n",
    "count = 0\n",
    "pv_15 = []\n",
    "\n",
    "for i in range(pv_power.shape[0]):\n",
    "    \n",
    "    count += 1\n",
    "    if count ==3:\n",
    "        avg = np.sum(pv_power[i-2:i+1])/3\n",
    "        pv_15.append(avg)\n",
    "        count = 0\n",
    "\n",
    "len(pv_15)"
   ]
  },
  {
   "cell_type": "code",
   "execution_count": 89,
   "metadata": {},
   "outputs": [],
   "source": [
    "pv_power_scale = pv_15/np.max(pv_15)"
   ]
  },
  {
   "cell_type": "code",
   "execution_count": 90,
   "metadata": {
    "collapsed": true
   },
   "outputs": [],
   "source": [
    "off_peak_rate = 2.6296\n",
    "on_peak_rate = 4.3555\n",
    "\n",
    "tou = []\n",
    "for i in range(96):\n",
    "    \n",
    "    if i <=36 or i >36+52:\n",
    "        tou.append(off_peak_rate)\n",
    "    else:\n",
    "        tou.append(on_peak_rate)\n",
    "        "
   ]
  },
  {
   "cell_type": "code",
   "execution_count": 220,
   "metadata": {},
   "outputs": [],
   "source": [
    "## PV cost and BESS cost\n",
    "cost_norm_inverter = 11.8*1000  # Baht/W\n",
    "cost_norm_pv = 37.5*1000        # Baht/W\n",
    "\n",
    "cost_pv = (cost_norm_inverter + cost_norm_pv)\n",
    "cost_pv = cost_pv*5\n",
    "\n",
    "bess_cost_kWh = 300*35\n",
    "bess_cost_kW = (0.71 + 0.21 + 0.57 + 0.15 + 0.75 + 0.06)*35*1000\n",
    "\n",
    "bess_cost_kWh = bess_cost_kWh/3\n",
    "bess_cost_kW = bess_cost_kW/3"
   ]
  },
  {
   "cell_type": "code",
   "execution_count": 221,
   "metadata": {},
   "outputs": [],
   "source": [
    "## Optimization formulation\n",
    "\n",
    "# NPV factor\n",
    "year = 25\n",
    "r = 5\n",
    "discount = (1 - (1/(1 + r/100))**year)/(1-(1/(1 + r/100)))\n",
    "\n",
    "# coefficient of PV size\n",
    "c = -np.dot(pv_power_scale, tou)\n",
    "c = 365*c*discount + cost_pv\n",
    "c = [c]\n",
    "\n",
    "# coefficient of BESS energy\n",
    "c.append(bess_cost_kWh)\n",
    "\n",
    "# coefficient of BESS kW\n",
    "c.append(bess_cost_kW)\n",
    "\n",
    "# coefficient of BESS charge and discharge and TOU\n",
    "c.extend(list(np.array(tou)*365*discount/4))"
   ]
  },
  {
   "cell_type": "code",
   "execution_count": 229,
   "metadata": {},
   "outputs": [],
   "source": [
    "soc = 0.7\n",
    "len_time = len(pv_15)\n",
    "Crate = 2\n",
    "\n",
    "A = np.array([[-3, 1], [1, 2]])\n",
    "\n",
    "# Pl - Ppv - Pbess >= 0\n",
    "A_1 = np.array(pv_power_scale).reshape(96,1)\n",
    "A_1 = np.concatenate((A_1, np.zeros((len_time,1))),axis = 1)\n",
    "A_1 = np.concatenate((A_1, np.zeros((len_time,1))),axis = 1)\n",
    "A_1 = np.concatenate((A_1, np.identity(len_time)),axis = 1)\n",
    "\n",
    "# SOC <= 90\n",
    "A_2 = np.zeros((len_time,1))\n",
    "A_2 = np.concatenate((A_2, (soc-0.9)*np.ones((len_time,1))),axis = 1)\n",
    "A_2 = np.concatenate((A_2, np.zeros((len_time,1))),axis = 1)\n",
    "A_2 = np.concatenate((A_2, np.tril(np.ones((len_time)))),axis = 1)\n",
    "# SOC >= 10\n",
    "A_3 = np.zeros((len_time,1))\n",
    "A_3 = np.concatenate((A_3, (-soc+0.1)*np.ones((len_time,1))),axis = 1)\n",
    "A_3 = np.concatenate((A_3, np.zeros((len_time,1))),axis = 1)\n",
    "A_3 = np.concatenate((A_3, -np.tril(np.ones((len_time)))),axis = 1)\n",
    "# Pbess(t) <= Prate for all t\n",
    "A_4 = np.zeros((len_time,1))\n",
    "A_4 = np.concatenate((A_4, np.zeros((len_time,1))), axis=1)\n",
    "A_4 = np.concatenate((A_4, -np.ones((len_time,1))), axis=1)\n",
    "A_4 = np.concatenate((A_4, np.identity(len_time)), axis=1)\n",
    "# Pbess(t) >= -Prate for all t\n",
    "A_5 = np.zeros((len_time,1))\n",
    "A_5 = np.concatenate((A_5, np.zeros((len_time,1))), axis=1)\n",
    "A_5 = np.concatenate((A_5, -np.ones((len_time,1))), axis=1)\n",
    "A_5 = np.concatenate((A_5, -np.identity(len_time)), axis=1)\n",
    "# sum(Pbess(t)) = 0 \n",
    "A_6 = np.array([0,0,0]).reshape(3,1)\n",
    "A_6 = np.concatenate((A_6, -np.ones((len_time,1))), axis = 0)\n",
    "A_6 = A_6.T\n",
    "#  Crate <= 2\n",
    "A_7 = np.array([0, -Crate, 1]).reshape(3,1)\n",
    "A_7 = np.concatenate((A_7, np.zeros((len_time,1))))\n",
    "A_7 = A_7.T\n",
    "\n",
    "A = np.concatenate((A_1,A_2,A_3,A_4,A_5,A_6,A_7),axis=0)\n",
    "\n",
    "b = load_test.reshape(96,1)\n",
    "b = np.concatenate((b, np.zeros((len_time*4,1))))\n",
    "b = np.concatenate((b,np.array(0).reshape(1,1)))\n",
    "b = np.concatenate((b,np.array(2).reshape(1,1)))\n",
    "\n",
    "lb = np.array([[0, 0, 0], [10000, 10000, 10000]]).reshape(3,2)\n",
    "\n",
    "for i in range(96):\n",
    "    lb = np.concatenate((lb, np.array([-10000, 10000]).reshape(1,2)))"
   ]
  },
  {
   "cell_type": "code",
   "execution_count": 230,
   "metadata": {},
   "outputs": [],
   "source": [
    "res = linprog(c, A_ub=list(A), b_ub=list(b), bounds=lb)"
   ]
  }
 ],
 "metadata": {
  "kernelspec": {
   "display_name": "Python 3",
   "language": "python",
   "name": "python3"
  },
  "language_info": {
   "codemirror_mode": {
    "name": "ipython",
    "version": 3
   },
   "file_extension": ".py",
   "mimetype": "text/x-python",
   "name": "python",
   "nbconvert_exporter": "python",
   "pygments_lexer": "ipython3",
   "version": "3.6.1"
  }
 },
 "nbformat": 4,
 "nbformat_minor": 2
}
