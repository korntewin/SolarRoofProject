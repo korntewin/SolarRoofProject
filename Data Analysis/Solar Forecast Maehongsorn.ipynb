{
 "cells": [
  {
   "cell_type": "code",
   "execution_count": 1,
   "metadata": {
    "collapsed": true
   },
   "outputs": [],
   "source": [
    "# import neccessary library\n",
    "import tensorflow as tf\n",
    "import numpy as np\n",
    "import pandas as pd\n",
    "import matplotlib.pyplot as plt\n",
    "import seaborn as sns\n",
    "\n",
    "from sklearn.preprocessing import MinMaxScaler\n",
    "%matplotlib inline"
   ]
  },
  {
   "cell_type": "markdown",
   "metadata": {},
   "source": [
    "# 1. Preprocessing Data\n",
    "# 1.1 Import and Cleansing Data"
   ]
  },
  {
   "cell_type": "code",
   "execution_count": 2,
   "metadata": {},
   "outputs": [
    {
     "data": {
      "text/html": [
       "<div>\n",
       "<style>\n",
       "    .dataframe thead tr:only-child th {\n",
       "        text-align: right;\n",
       "    }\n",
       "\n",
       "    .dataframe thead th {\n",
       "        text-align: left;\n",
       "    }\n",
       "\n",
       "    .dataframe tbody tr th {\n",
       "        vertical-align: top;\n",
       "    }\n",
       "</style>\n",
       "<table border=\"1\" class=\"dataframe\">\n",
       "  <thead>\n",
       "    <tr style=\"text-align: right;\">\n",
       "      <th></th>\n",
       "      <th>Date</th>\n",
       "      <th>Unnamed: 1</th>\n",
       "      <th>Unnamed: 2</th>\n",
       "      <th>Unnamed: 3</th>\n",
       "      <th>Irradiance</th>\n",
       "      <th>Unnamed: 5</th>\n",
       "      <th>Unnamed: 6</th>\n",
       "      <th>Unnamed: 7</th>\n",
       "      <th>Unnamed: 8</th>\n",
       "      <th>Unnamed: 9</th>\n",
       "      <th>...</th>\n",
       "      <th>Unnamed: 573</th>\n",
       "      <th>Unnamed: 574</th>\n",
       "      <th>Unnamed: 575</th>\n",
       "      <th>Unnamed: 576</th>\n",
       "      <th>Unnamed: 577</th>\n",
       "      <th>Unnamed: 578</th>\n",
       "      <th>Unnamed: 579</th>\n",
       "      <th>Unnamed: 580</th>\n",
       "      <th>Unnamed: 581</th>\n",
       "      <th>Unnamed: 582</th>\n",
       "    </tr>\n",
       "  </thead>\n",
       "  <tbody>\n",
       "    <tr>\n",
       "      <th>0</th>\n",
       "      <td>NaN</td>\n",
       "      <td>NaN</td>\n",
       "      <td>NaN</td>\n",
       "      <td>NaN</td>\n",
       "      <td>0.006944</td>\n",
       "      <td>0.013889</td>\n",
       "      <td>0.020833</td>\n",
       "      <td>0.027778</td>\n",
       "      <td>0.034722</td>\n",
       "      <td>0.041667</td>\n",
       "      <td>...</td>\n",
       "      <td>0.9375</td>\n",
       "      <td>0.944444</td>\n",
       "      <td>0.951389</td>\n",
       "      <td>0.958333</td>\n",
       "      <td>0.965278</td>\n",
       "      <td>0.972222</td>\n",
       "      <td>0.979167</td>\n",
       "      <td>0.986111</td>\n",
       "      <td>0.993056</td>\n",
       "      <td>1.0000</td>\n",
       "    </tr>\n",
       "    <tr>\n",
       "      <th>1</th>\n",
       "      <td>14.0</td>\n",
       "      <td>2.0</td>\n",
       "      <td>10.0</td>\n",
       "      <td>NaN</td>\n",
       "      <td>0.984900</td>\n",
       "      <td>0.985000</td>\n",
       "      <td>0.997600</td>\n",
       "      <td>0.998900</td>\n",
       "      <td>0.985500</td>\n",
       "      <td>0.987800</td>\n",
       "      <td>...</td>\n",
       "      <td>0.0852</td>\n",
       "      <td>0.121300</td>\n",
       "      <td>0.062600</td>\n",
       "      <td>0.037200</td>\n",
       "      <td>0.253300</td>\n",
       "      <td>0.110800</td>\n",
       "      <td>0.149700</td>\n",
       "      <td>0.132200</td>\n",
       "      <td>0.132000</td>\n",
       "      <td>0.0270</td>\n",
       "    </tr>\n",
       "    <tr>\n",
       "      <th>2</th>\n",
       "      <td>7.0</td>\n",
       "      <td>3.0</td>\n",
       "      <td>10.0</td>\n",
       "      <td>NaN</td>\n",
       "      <td>1.084700</td>\n",
       "      <td>1.056400</td>\n",
       "      <td>1.069900</td>\n",
       "      <td>1.069900</td>\n",
       "      <td>1.075600</td>\n",
       "      <td>1.077800</td>\n",
       "      <td>...</td>\n",
       "      <td>0.0550</td>\n",
       "      <td>0.059600</td>\n",
       "      <td>0.086400</td>\n",
       "      <td>0.064700</td>\n",
       "      <td>0.056500</td>\n",
       "      <td>0.315900</td>\n",
       "      <td>0.154900</td>\n",
       "      <td>0.173600</td>\n",
       "      <td>0.392900</td>\n",
       "      <td>1.0315</td>\n",
       "    </tr>\n",
       "    <tr>\n",
       "      <th>3</th>\n",
       "      <td>8.0</td>\n",
       "      <td>3.0</td>\n",
       "      <td>10.0</td>\n",
       "      <td>NaN</td>\n",
       "      <td>1.050300</td>\n",
       "      <td>1.054300</td>\n",
       "      <td>1.048900</td>\n",
       "      <td>1.069600</td>\n",
       "      <td>1.069800</td>\n",
       "      <td>1.065800</td>\n",
       "      <td>...</td>\n",
       "      <td>1.0183</td>\n",
       "      <td>1.442400</td>\n",
       "      <td>0.893400</td>\n",
       "      <td>0.420700</td>\n",
       "      <td>0.318400</td>\n",
       "      <td>0.882900</td>\n",
       "      <td>1.236300</td>\n",
       "      <td>1.441800</td>\n",
       "      <td>1.460000</td>\n",
       "      <td>1.5229</td>\n",
       "    </tr>\n",
       "    <tr>\n",
       "      <th>4</th>\n",
       "      <td>9.0</td>\n",
       "      <td>3.0</td>\n",
       "      <td>10.0</td>\n",
       "      <td>NaN</td>\n",
       "      <td>1.052400</td>\n",
       "      <td>1.055000</td>\n",
       "      <td>1.045500</td>\n",
       "      <td>1.054500</td>\n",
       "      <td>1.054100</td>\n",
       "      <td>1.044200</td>\n",
       "      <td>...</td>\n",
       "      <td>0.8247</td>\n",
       "      <td>0.834100</td>\n",
       "      <td>0.978500</td>\n",
       "      <td>1.054800</td>\n",
       "      <td>1.277700</td>\n",
       "      <td>1.319000</td>\n",
       "      <td>0.819900</td>\n",
       "      <td>0.902800</td>\n",
       "      <td>1.029000</td>\n",
       "      <td>0.7366</td>\n",
       "    </tr>\n",
       "  </tbody>\n",
       "</table>\n",
       "<p>5 rows × 583 columns</p>\n",
       "</div>"
      ],
      "text/plain": [
       "   Date  Unnamed: 1  Unnamed: 2  Unnamed: 3  Irradiance  Unnamed: 5  \\\n",
       "0   NaN         NaN         NaN         NaN    0.006944    0.013889   \n",
       "1  14.0         2.0        10.0         NaN    0.984900    0.985000   \n",
       "2   7.0         3.0        10.0         NaN    1.084700    1.056400   \n",
       "3   8.0         3.0        10.0         NaN    1.050300    1.054300   \n",
       "4   9.0         3.0        10.0         NaN    1.052400    1.055000   \n",
       "\n",
       "   Unnamed: 6  Unnamed: 7  Unnamed: 8  Unnamed: 9      ...       Unnamed: 573  \\\n",
       "0    0.020833    0.027778    0.034722    0.041667      ...             0.9375   \n",
       "1    0.997600    0.998900    0.985500    0.987800      ...             0.0852   \n",
       "2    1.069900    1.069900    1.075600    1.077800      ...             0.0550   \n",
       "3    1.048900    1.069600    1.069800    1.065800      ...             1.0183   \n",
       "4    1.045500    1.054500    1.054100    1.044200      ...             0.8247   \n",
       "\n",
       "   Unnamed: 574  Unnamed: 575  Unnamed: 576  Unnamed: 577  Unnamed: 578  \\\n",
       "0      0.944444      0.951389      0.958333      0.965278      0.972222   \n",
       "1      0.121300      0.062600      0.037200      0.253300      0.110800   \n",
       "2      0.059600      0.086400      0.064700      0.056500      0.315900   \n",
       "3      1.442400      0.893400      0.420700      0.318400      0.882900   \n",
       "4      0.834100      0.978500      1.054800      1.277700      1.319000   \n",
       "\n",
       "   Unnamed: 579  Unnamed: 580  Unnamed: 581  Unnamed: 582  \n",
       "0      0.979167      0.986111      0.993056        1.0000  \n",
       "1      0.149700      0.132200      0.132000        0.0270  \n",
       "2      0.154900      0.173600      0.392900        1.0315  \n",
       "3      1.236300      1.441800      1.460000        1.5229  \n",
       "4      0.819900      0.902800      1.029000        0.7366  \n",
       "\n",
       "[5 rows x 583 columns]"
      ]
     },
     "execution_count": 2,
     "metadata": {},
     "output_type": "execute_result"
    }
   ],
   "source": [
    "raw_data = pd.read_excel('RAW-DATA.xlsx')\n",
    "raw_data.head()"
   ]
  },
  {
   "cell_type": "markdown",
   "metadata": {},
   "source": [
    "Irradiance Column index --> 4:148<br>\n",
    "Power Column index --> 149:292<br>\n",
    "Temperature Column index --> 293:437<br>\n",
    "Wind        Column index --> 438:582<br>"
   ]
  },
  {
   "cell_type": "code",
   "execution_count": 3,
   "metadata": {},
   "outputs": [
    {
     "data": {
      "text/plain": [
       "(741, 583)"
      ]
     },
     "execution_count": 3,
     "metadata": {},
     "output_type": "execute_result"
    }
   ],
   "source": [
    "raw_data.shape"
   ]
  },
  {
   "cell_type": "code",
   "execution_count": 4,
   "metadata": {
    "collapsed": true
   },
   "outputs": [],
   "source": [
    "## Test Code\n",
    "time = np.round(raw_data.iloc[0, 4:148]*144)\n",
    "radiance = raw_data.iloc[1, 4:148]\n",
    "power = raw_data.iloc[1, 150:293]\n",
    "temp = raw_data.iloc[1, 294:438]\n",
    "wind = raw_data.iloc[1, 439:582]"
   ]
  },
  {
   "cell_type": "code",
   "execution_count": 5,
   "metadata": {
    "collapsed": true
   },
   "outputs": [],
   "source": [
    "## Extract radiance power temp and wind, reshape to time-serires data\n",
    "solar_dict = {'date':[],'month':[],'year':[],'time':[],'radiance':[],'power':[],'temp':[],'wind':[]}\n",
    "solar_dict = {'radiance':[],'power':[],'temp':[],'wind':[]}\n",
    "solar_input = pd.DataFrame(solar_dict)\n",
    "\n",
    "for i in range(1, raw_data.shape[1]):\n",
    "    \n",
    "    if i != 1:\n",
    "        radiance = raw_data.iloc[i, 4:148].reset_index(drop=True)\n",
    "        power = raw_data.iloc[i, 149:293].reset_index(drop=True)\n",
    "        temp = raw_data.iloc[i, 294:438].reset_index(drop=True)\n",
    "        wind = raw_data.iloc[i, 439:583].reset_index(drop=True)\n",
    "\n",
    "        solar_dict['radiance'] = radiance\n",
    "        solar_dict['power'] = power\n",
    "        solar_dict['temp'] = temp\n",
    "        solar_dict['wind'] = wind\n",
    "\n",
    "        solar_temp = pd.DataFrame(solar_dict)\n",
    "        solar_input = pd.concat([solar_input, solar_temp]).reset_index(drop=True)\n",
    "    "
   ]
  },
  {
   "cell_type": "code",
   "execution_count": 6,
   "metadata": {},
   "outputs": [
    {
     "data": {
      "text/html": [
       "<div>\n",
       "<style>\n",
       "    .dataframe thead tr:only-child th {\n",
       "        text-align: right;\n",
       "    }\n",
       "\n",
       "    .dataframe thead th {\n",
       "        text-align: left;\n",
       "    }\n",
       "\n",
       "    .dataframe tbody tr th {\n",
       "        vertical-align: top;\n",
       "    }\n",
       "</style>\n",
       "<table border=\"1\" class=\"dataframe\">\n",
       "  <thead>\n",
       "    <tr style=\"text-align: right;\">\n",
       "      <th></th>\n",
       "      <th>power</th>\n",
       "      <th>radiance</th>\n",
       "      <th>temp</th>\n",
       "      <th>wind</th>\n",
       "    </tr>\n",
       "  </thead>\n",
       "  <tbody>\n",
       "    <tr>\n",
       "      <th>0</th>\n",
       "      <td>0.0</td>\n",
       "      <td>1.0847</td>\n",
       "      <td>25.4750</td>\n",
       "      <td>1.3630</td>\n",
       "    </tr>\n",
       "    <tr>\n",
       "      <th>1</th>\n",
       "      <td>0.0</td>\n",
       "      <td>1.0564</td>\n",
       "      <td>25.3650</td>\n",
       "      <td>1.1337</td>\n",
       "    </tr>\n",
       "    <tr>\n",
       "      <th>2</th>\n",
       "      <td>0.0</td>\n",
       "      <td>1.0699</td>\n",
       "      <td>25.2367</td>\n",
       "      <td>1.2130</td>\n",
       "    </tr>\n",
       "    <tr>\n",
       "      <th>3</th>\n",
       "      <td>0.0</td>\n",
       "      <td>1.0699</td>\n",
       "      <td>24.8133</td>\n",
       "      <td>0.6968</td>\n",
       "    </tr>\n",
       "    <tr>\n",
       "      <th>4</th>\n",
       "      <td>0.0</td>\n",
       "      <td>1.0756</td>\n",
       "      <td>24.3550</td>\n",
       "      <td>0.5550</td>\n",
       "    </tr>\n",
       "  </tbody>\n",
       "</table>\n",
       "</div>"
      ],
      "text/plain": [
       "   power  radiance     temp    wind\n",
       "0    0.0    1.0847  25.4750  1.3630\n",
       "1    0.0    1.0564  25.3650  1.1337\n",
       "2    0.0    1.0699  25.2367  1.2130\n",
       "3    0.0    1.0699  24.8133  0.6968\n",
       "4    0.0    1.0756  24.3550  0.5550"
      ]
     },
     "execution_count": 6,
     "metadata": {},
     "output_type": "execute_result"
    }
   ],
   "source": [
    "solar_input.head()"
   ]
  },
  {
   "cell_type": "markdown",
   "metadata": {},
   "source": [
    "# 2. Preprocessing\n",
    "..."
   ]
  },
  {
   "cell_type": "markdown",
   "metadata": {},
   "source": [
    "# 3. Prepare input of time series\n",
    "get_batch"
   ]
  },
  {
   "cell_type": "code",
   "execution_count": 7,
   "metadata": {
    "collapsed": true
   },
   "outputs": [],
   "source": [
    "def get_batch(X_origin, steps, start_indices):\n",
    "    '''\n",
    "    This method will generate input and output of time-series for RNN, for example\n",
    "    input --> x(t-2) x(t-1) x(t)\n",
    "    target --> x(t-1) x(t) x(t+1)\n",
    "    '''\n",
    "    X = X_origin.copy()\n",
    "    \n",
    "    start = start_indices[0]\n",
    "    train_batch = np.array(X[start:start+steps+1, :]).reshape(steps+1, 4)\n",
    "    \n",
    "    train_return = train_batch[:-1,:].reshape(-1, steps, 4)\n",
    "    target_return = train_batch[1:,0].reshape(-1, steps, 1) # target only power generation\n",
    "    \n",
    "    for k, start in enumerate(start_indices):\n",
    "        \n",
    "        if k != 0:\n",
    "            train_batch = np.array(X[start:start+steps+1, :]).reshape(steps + 1, 4)[:-1,:].reshape(-1, steps, 4)\n",
    "            target_batch = np.array(X[start:start+steps+1, 0]).reshape(steps + 1, 1)[1:,:].reshape(-1, steps, 1)\n",
    "            train_return = np.concatenate((train_return, train_batch), axis = 0)\n",
    "            target_return = np.concatenate((target_return, target_batch), axis = 0)\n",
    "    \n",
    "    return train_return, target_return"
   ]
  },
  {
   "cell_type": "code",
   "execution_count": 8,
   "metadata": {},
   "outputs": [
    {
     "data": {
      "text/plain": [
       "array([[  0.    ,   1.0847,  25.475 ,   1.363 ],\n",
       "       [  0.    ,   1.0564,  25.365 ,   1.1337],\n",
       "       [  0.    ,   1.0699,  25.2367,   1.213 ],\n",
       "       [  0.    ,   1.0699,  24.8133,   0.6968]])"
      ]
     },
     "execution_count": 8,
     "metadata": {},
     "output_type": "execute_result"
    }
   ],
   "source": [
    "## Unit Test\n",
    "solar_mat = solar_input.as_matrix().copy()\n",
    "solar_mat[0:4, :].reshape(4,4)"
   ]
  },
  {
   "cell_type": "code",
   "execution_count": 9,
   "metadata": {},
   "outputs": [
    {
     "data": {
      "text/plain": [
       "array([[[  0.    ,   1.0847,  25.475 ,   1.363 ],\n",
       "        [  0.    ,   1.0564,  25.365 ,   1.1337],\n",
       "        [  0.    ,   1.0699,  25.2367,   1.213 ],\n",
       "        [  0.    ,   1.0699,  24.8133,   0.6968],\n",
       "        [  0.    ,   1.0756,  24.355 ,   0.555 ]],\n",
       "\n",
       "       [[  0.    ,   1.0905,  22.45  ,   0.105 ],\n",
       "        [  0.    ,   1.0629,  22.5   ,   0.2916],\n",
       "        [  0.    ,   1.0824,  23.2333,   0.483 ],\n",
       "        [  0.    ,   1.0792,  23.2117,   0.8162],\n",
       "        [  0.    ,   1.0751,  23.2367,   0.6947]]])"
      ]
     },
     "execution_count": 9,
     "metadata": {},
     "output_type": "execute_result"
    }
   ],
   "source": [
    "## Unit Test\n",
    "train_batch, target_batch = get_batch(solar_mat, 5, [0, 10])\n",
    "train_batch"
   ]
  },
  {
   "cell_type": "code",
   "execution_count": 11,
   "metadata": {},
   "outputs": [
    {
     "name": "stdout",
     "output_type": "stream",
     "text": [
      "data train shape 79481\n",
      "data test shape 4182\n"
     ]
    }
   ],
   "source": [
    "# split train and test set\n",
    "test_set_ratio = 0.05\n",
    "full_len = solar_mat.shape[0]\n",
    "\n",
    "len_train = round(full_len*(1-test_set_ratio))\n",
    "\n",
    "solar_train_origin = solar_input.iloc[:len_train, :].as_matrix().copy()\n",
    "solar_test_origin = solar_input.iloc[len_train+1:, :].as_matrix().copy()\n",
    "\n",
    "print('data train shape', len(solar_train_origin))\n",
    "print('data test shape', len(solar_test_origin))"
   ]
  },
  {
   "cell_type": "code",
   "execution_count": 12,
   "metadata": {},
   "outputs": [
    {
     "name": "stdout",
     "output_type": "stream",
     "text": [
      "83664\n",
      "79481\n"
     ]
    }
   ],
   "source": [
    "print(full_len)\n",
    "print(len_train)"
   ]
  },
  {
   "cell_type": "code",
   "execution_count": 13,
   "metadata": {
    "collapsed": true
   },
   "outputs": [],
   "source": [
    "# normalize input\n",
    "from sklearn.preprocessing import MinMaxScaler\n",
    "\n",
    "scaler = MinMaxScaler()\n",
    "solar_train_origin_scale = scaler.fit_transform(solar_train_origin)\n",
    "solar_test_origin_scale = scaler.transform(solar_test_origin)"
   ]
  },
  {
   "cell_type": "code",
   "execution_count": 14,
   "metadata": {},
   "outputs": [
    {
     "data": {
      "text/plain": [
       "<bound method MinMaxScaler.inverse_transform of MinMaxScaler(copy=True, feature_range=(0, 1))>"
      ]
     },
     "execution_count": 14,
     "metadata": {},
     "output_type": "execute_result"
    }
   ],
   "source": [
    "scaler.inverse_transform"
   ]
  },
  {
   "cell_type": "markdown",
   "metadata": {},
   "source": [
    "# 4 Model Selection\n",
    "1.typical ANN <br>\n",
    "2.Advanced RNN"
   ]
  },
  {
   "cell_type": "code",
   "execution_count": 15,
   "metadata": {
    "collapsed": true
   },
   "outputs": [],
   "source": [
    "num_inputs = 4\n",
    "num_outputs = 1\n",
    "\n",
    "num_time_steps = 32\n",
    "forecast_steps = 18\n",
    "\n",
    "## layers of RNN\n",
    "num_layers = 3      \n",
    "## dropout regularization\n",
    "keepprob = 0.8         \n",
    "\n",
    "learning_rate = 0.001\n",
    "num_neurons = 128\n",
    "batch_size = 2**4\n"
   ]
  },
  {
   "cell_type": "code",
   "execution_count": null,
   "metadata": {
    "collapsed": true
   },
   "outputs": [],
   "source": [
    "import tensorflow as tf\n",
    "\n",
    "# RNN\n",
    "tf.reset_default_graph()\n",
    "\n",
    "X = tf.placeholder(tf.float32, [None, num_time_steps, num_inputs], name = 'X')\n",
    "y = tf.placeholder(tf.float32, [None, num_time_steps, num_outputs], name = 'Y')\n",
    "tf_keepprob = tf.placeholder(tf.float32, name='tf_keepprob')\n",
    "\n",
    "## GRUCell regularization\n",
    "# save_name = './GRU_model'\n",
    "# cells = tf.contrib.rnn.OutputProjectionWrapper(\n",
    "#     tf.contrib.rnn.MultiRNNCell(\n",
    "#         [tf.contrib.rnn.DropoutWrapper(\n",
    "#             tf.contrib.rnn.GRUCell(num_neurons, activation = tf.nn.relu,\n",
    "#                                    kernel_initializer = tf.contrib.layers.xavier_initializer()),\n",
    "#             output_keep_prob=tf_keepprob)\n",
    "#          for i in range(num_layers)]), output_size = num_outputs)\n",
    "\n",
    "## LSTMCell\n",
    "save_name = './LSTM_model'\n",
    "cells = tf.contrib.rnn.OutputProjectionWrapper(\n",
    "    tf.contrib.rnn.MultiRNNCell(\n",
    "        [tf.contrib.rnn.DropoutWrapper(\n",
    "            tf.contrib.rnn.LSTMCell(num_neurons, activation = tf.nn.relu,\n",
    "                                   initializer = tf.contrib.layers.xavier_initializer()),\n",
    "            output_keep_prob=tf_keepprob)\n",
    "         for i in range(num_layers)]), output_size = num_outputs)\n",
    "\n",
    "outputs, states = tf.nn.dynamic_rnn(cells, X, dtype = tf.float32)\n",
    "\n",
    "loss = tf.reduce_mean(tf.square(outputs - y))\n",
    "optimizer = tf.train.AdamOptimizer(learning_rate = learning_rate)\n",
    "\n",
    "train = optimizer.minimize(loss)\n",
    "init = tf.global_variables_initializer()\n",
    "\n",
    "saver = tf.train.Saver()"
   ]
  },
  {
   "cell_type": "code",
   "execution_count": null,
   "metadata": {},
   "outputs": [
    {
     "name": "stdout",
     "output_type": "stream",
     "text": [
      "epoch:   0\tMSE = 0.000220\n",
      "epoch:   1\tMSE = 0.000166\n",
      "epoch:   2\tMSE = 0.000159\n",
      "epoch:   3\tMSE = 0.000153\n",
      "epoch:   4\tMSE = 0.000147\n"
     ]
    }
   ],
   "source": [
    "## Train RNN model\n",
    "\n",
    "num_epochs = 20\n",
    "\n",
    "with tf.Session() as sess:\n",
    "    \n",
    "    sess.run(init)\n",
    "    \n",
    "    count = 0\n",
    "    for i in range(num_epochs):\n",
    "        \n",
    "        solar_train = solar_train_origin_scale.copy()\n",
    "        \n",
    "        rand_start = np.random.permutation(len_train-num_time_steps)\n",
    "        avg_mse = 0\n",
    "        \n",
    "        for k in range(0, len_train-num_time_steps, batch_size):\n",
    "            \n",
    "            count = count + 1\n",
    "            \n",
    "            start = rand_start[k:k+batch_size]\n",
    "            X_batch, y_batch = get_batch(solar_train_origin_scale, num_time_steps, start)\n",
    "            sess.run(train, feed_dict={X:X_batch, y:y_batch, tf_keepprob:keepprob}) \n",
    "            y_pred = sess.run(outputs, feed_dict={X:X_batch, tf_keepprob:keepprob})\n",
    "            avg_mse += loss.eval(feed_dict={X:X_batch, y:y_batch, tf_keepprob:keepprob})\n",
    "        \n",
    "        avg_mse /= len(rand_start)\n",
    "        \n",
    "        if i%1 == 0:\n",
    "            print('epoch: {:3d}\\tMSE = {:.6f}'.format(i, avg_mse))\n",
    "\n",
    "    # Save Model for Later\n",
    "    saver.save(sess, save_name)"
   ]
  },
  {
   "cell_type": "markdown",
   "metadata": {},
   "source": [
    "# 5.1 Train and Test 1 step ahead evaluation"
   ]
  },
  {
   "cell_type": "code",
   "execution_count": 369,
   "metadata": {},
   "outputs": [
    {
     "name": "stdout",
     "output_type": "stream",
     "text": [
      "INFO:tensorflow:Restoring parameters from ./ex_time_series_model\n",
      "Complete4)\n"
     ]
    }
   ],
   "source": [
    "## Train Forecast steps evaluation\n",
    "\n",
    "with tf.Session() as sess:\n",
    "    \n",
    "    saver.restore(sess, './ex_time_series_model')\n",
    "    \n",
    "    train_seed = solar_train_origin_scale[:num_time_steps,:].copy()\n",
    "    y_train_prediction = []\n",
    "    \n",
    "    avg_mse = 0\n",
    "    count = 0\n",
    "\n",
    "    for k in range(num_time_steps, solar_train.shape[0]-1):\n",
    "\n",
    "        last_train = np.array(train_seed[-num_time_steps:,:]).reshape(-1, num_time_steps, 4).copy()\n",
    "        y_pred = sess.run(outputs, feed_dict={X:last_train, tf_keepprob:1})\n",
    "            \n",
    "        train_seed = solar_train_origin_scale[:k+1, :].copy()\n",
    "            \n",
    "        print(train_seed.shape, end = '\\r')\n",
    "        y_train_prediction.append(y_pred[0, -1, 0])\n",
    "        \n",
    "    print('Complete')"
   ]
  },
  {
   "cell_type": "code",
   "execution_count": 370,
   "metadata": {},
   "outputs": [
    {
     "name": "stdout",
     "output_type": "stream",
     "text": [
      "RMSE = 0.056972\n"
     ]
    }
   ],
   "source": [
    "# evaluate on train set\n",
    "rmse = np.sqrt(np.mean(np.square(np.array(y_train_prediction) - solar_train_origin_scale[num_time_steps+1:,0])))\n",
    "print('RMSE = {:.6f}'.format(rmse))"
   ]
  },
  {
   "cell_type": "code",
   "execution_count": 371,
   "metadata": {},
   "outputs": [
    {
     "data": {
      "text/plain": [
       "<matplotlib.legend.Legend at 0x1c33a858828>"
      ]
     },
     "execution_count": 371,
     "metadata": {},
     "output_type": "execute_result"
    },
    {
     "data": {
      "image/png": "[encoded data removed]",
      "text/plain": [
       "<matplotlib.figure.Figure at 0x1c33f713c50>"
      ]
     },
     "metadata": {},
     "output_type": "display_data"
    }
   ],
   "source": [
    "plt.plot(y_train_prediction[-30144:-30000], label='train prediction 1 step ahead')\n",
    "plt.plot(solar_train_origin_scale[-30144:-30000,0], label='train true value')\n",
    "plt.legend()"
   ]
  },
  {
   "cell_type": "code",
   "execution_count": 372,
   "metadata": {},
   "outputs": [
    {
     "name": "stdout",
     "output_type": "stream",
     "text": [
      "INFO:tensorflow:Restoring parameters from ./ex_time_series_model\n",
      "Complete)\n"
     ]
    }
   ],
   "source": [
    "## Test 1 step ahead evaluation\n",
    "\n",
    "with tf.Session() as sess:\n",
    "    \n",
    "    saver.restore(sess, './ex_time_series_model')\n",
    "    \n",
    "    train_seed = solar_test_origin_scale[:num_time_steps,:].copy()\n",
    "    y_test_prediction = []\n",
    "    \n",
    "    avg_mse = 0\n",
    "    count = 0\n",
    "\n",
    "    for k in range(num_time_steps, solar_test.shape[0]-1):\n",
    "\n",
    "        last_train = np.array(train_seed[-num_time_steps:,:]).reshape(-1, num_time_steps, 4).copy()\n",
    "        y_pred = sess.run(outputs, feed_dict={X:last_train, tf_keepprob:1})\n",
    "        \n",
    "        train_seed = solar_test_origin_scale[:k+1, :].copy()\n",
    "            \n",
    "        print(train_seed.shape, end = '\\r')\n",
    "        y_test_prediction.append(y_pred[0, -1, 0].copy())\n",
    "        \n",
    "    print('Complete')\n",
    "        "
   ]
  },
  {
   "cell_type": "code",
   "execution_count": 373,
   "metadata": {},
   "outputs": [
    {
     "name": "stdout",
     "output_type": "stream",
     "text": [
      "RMSE = 0.040401\n"
     ]
    }
   ],
   "source": [
    "# evaluate on test set\n",
    "rmse = np.sqrt(np.mean(np.square(np.array(y_test_prediction) - solar_test_origin_scale[num_time_steps+1:,0])))\n",
    "print('RMSE = {:.6f}'.format(rmse))"
   ]
  },
  {
   "cell_type": "code",
   "execution_count": 375,
   "metadata": {},
   "outputs": [
    {
     "data": {
      "text/plain": [
       "<matplotlib.legend.Legend at 0x1c330a40ac8>"
      ]
     },
     "execution_count": 375,
     "metadata": {},
     "output_type": "execute_result"
    },
    {
     "data": {
      "image/png": "[encoded data removed]",
      "text/plain": [
       "<matplotlib.figure.Figure at 0x1c339d6e780>"
      ]
     },
     "metadata": {},
     "output_type": "display_data"
    }
   ],
   "source": [
    "plt.plot(y_test_prediction[-288:], label='test prediction 1 step ahead')\n",
    "plt.plot(solar_test_origin_scale[-288:,0], label='test true value')\n",
    "plt.legend()"
   ]
  },
  {
   "cell_type": "markdown",
   "metadata": {},
   "source": [
    "# 5.2 Train and Test forecast steps evaluation"
   ]
  },
  {
   "cell_type": "code",
   "execution_count": 376,
   "metadata": {},
   "outputs": [
    {
     "name": "stdout",
     "output_type": "stream",
     "text": [
      "INFO:tensorflow:Restoring parameters from ./ex_time_series_model\n",
      "Complete4)\n"
     ]
    }
   ],
   "source": [
    "## Train Forecast steps evaluation\n",
    "\n",
    "with tf.Session() as sess:\n",
    "    \n",
    "    saver.restore(sess, './ex_time_series_model')\n",
    "    \n",
    "    train_seed = solar_train_origin_scale[:num_time_steps,:].copy()\n",
    "    y_train_prediction = []\n",
    "    \n",
    "    avg_mse = 0\n",
    "    count = 0\n",
    "\n",
    "    for k in range(num_time_steps, solar_train.shape[0]-1):\n",
    "\n",
    "        last_train = np.array(train_seed[-num_time_steps:,:]).reshape(-1, num_time_steps, 4).copy()\n",
    "        y_pred = sess.run(outputs, feed_dict={X:last_train, tf_keepprob:1})\n",
    "        \n",
    "        if count == forecast_steps:\n",
    "            \n",
    "            train_seed = solar_train_origin_scale[:k+1, :].copy()\n",
    "            count = 0\n",
    "        \n",
    "        else:\n",
    "            train_seed = solar_train_origin_scale[:k+1, :].copy()\n",
    "            train_seed[-1, 0] = y_pred[0, -1, 0].copy()\n",
    "        \n",
    "            count += 1\n",
    "            \n",
    "        print(train_seed.shape, end = '\\r')\n",
    "        y_train_prediction.append(y_pred[0, -1, 0])\n",
    "      \n",
    "    print('Complete')"
   ]
  },
  {
   "cell_type": "code",
   "execution_count": 377,
   "metadata": {},
   "outputs": [
    {
     "name": "stdout",
     "output_type": "stream",
     "text": [
      "RMSE = 0.091504\n"
     ]
    }
   ],
   "source": [
    "# forecast step train eval\n",
    "rmse = np.sqrt(np.mean(np.square(np.array(y_train_prediction) - solar_train[num_time_steps+1:,0])))\n",
    "print('RMSE = {:.6f}'.format(rmse))"
   ]
  },
  {
   "cell_type": "code",
   "execution_count": 378,
   "metadata": {},
   "outputs": [
    {
     "data": {
      "text/plain": [
       "<matplotlib.legend.Legend at 0x1c3312d19e8>"
      ]
     },
     "execution_count": 378,
     "metadata": {},
     "output_type": "execute_result"
    },
    {
     "data": {
      "image/png": "[encoded data removed]",
      "text/plain": [
       "<matplotlib.figure.Figure at 0x1c332f557f0>"
      ]
     },
     "metadata": {},
     "output_type": "display_data"
    }
   ],
   "source": [
    "plt.plot(y_train_prediction[-144:], label='prediction')\n",
    "plt.plot(solar_train[-144:,0], label='true value')\n",
    "plt.legend()"
   ]
  },
  {
   "cell_type": "code",
   "execution_count": 379,
   "metadata": {},
   "outputs": [
    {
     "name": "stdout",
     "output_type": "stream",
     "text": [
      "INFO:tensorflow:Restoring parameters from ./ex_time_series_model\n",
      "Complete)\n"
     ]
    }
   ],
   "source": [
    "## Test Forecast steps evaluation\n",
    "\n",
    "with tf.Session() as sess:\n",
    "    \n",
    "    saver.restore(sess, './ex_time_series_model')\n",
    "    \n",
    "    train_seed = solar_test_origin_scale[:num_time_steps,:].copy()\n",
    "    y_test_prediction = []\n",
    "    \n",
    "    avg_mse = 0\n",
    "    count = 0\n",
    "\n",
    "    for k in range(num_time_steps, solar_test.shape[0]-1):\n",
    "\n",
    "        last_train = np.array(train_seed[-num_time_steps:,:]).reshape(-1, num_time_steps, 4).copy()\n",
    "        y_pred = sess.run(outputs, feed_dict={X:last_train, tf_keepprob:1})\n",
    "        \n",
    "        if count == forecast_steps:\n",
    "           \n",
    "            train_seed = solar_test_origin_scale[:k+1, :].copy()\n",
    "            count = 0\n",
    "        \n",
    "        else:\n",
    "#             train_seed[num_time_steps+1:k+num_time_steps, :] = solar_train[:k, :]\n",
    "            train_seed = solar_test_origin_scale[:k+1, :].copy()\n",
    "            train_seed[-1, 0] = y_pred[0, -1, 0].copy()\n",
    "        \n",
    "            count += 1\n",
    "            \n",
    "        print(train_seed.shape, end = '\\r')\n",
    "        y_test_prediction.append(y_pred[0, -1, 0].copy())\n",
    "        \n",
    "    print('Complete')\n"
   ]
  },
  {
   "cell_type": "code",
   "execution_count": 380,
   "metadata": {},
   "outputs": [
    {
     "name": "stdout",
     "output_type": "stream",
     "text": [
      "RMSE = 0.090338\n"
     ]
    }
   ],
   "source": [
    "# forecast steps test eval\n",
    "rmse = np.sqrt(np.mean(np.square(np.array(y_test_prediction) - solar_test_origin_scale[num_time_steps+1:,0])))\n",
    "print('RMSE = {:.6f}'.format(rmse))"
   ]
  },
  {
   "cell_type": "code",
   "execution_count": 381,
   "metadata": {},
   "outputs": [
    {
     "data": {
      "text/plain": [
       "<matplotlib.legend.Legend at 0x1c3314ddcc0>"
      ]
     },
     "execution_count": 381,
     "metadata": {},
     "output_type": "execute_result"
    },
    {
     "data": {
      "image/png": "[encoded data removed]",
      "text/plain": [
       "<matplotlib.figure.Figure at 0x1c3312e7b70>"
      ]
     },
     "metadata": {},
     "output_type": "display_data"
    }
   ],
   "source": [
    "plt.plot(y_test_prediction[-200:], label='prediction')\n",
    "plt.plot(solar_train[-200:,0], label='true value')\n",
    "plt.legend()"
   ]
  },
  {
   "cell_type": "code",
   "execution_count": null,
   "metadata": {
    "collapsed": true
   },
   "outputs": [],
   "source": []
  }
 ],
 "metadata": {
  "kernelspec": {
   "display_name": "Python 3",
   "language": "python",
   "name": "python3"
  },
  "language_info": {
   "codemirror_mode": {
    "name": "ipython",
    "version": 3
   },
   "file_extension": ".py",
   "mimetype": "text/x-python",
   "name": "python",
   "nbconvert_exporter": "python",
   "pygments_lexer": "ipython3",
   "version": "3.6.1"
  }
 },
 "nbformat": 4,
 "nbformat_minor": 2
}
